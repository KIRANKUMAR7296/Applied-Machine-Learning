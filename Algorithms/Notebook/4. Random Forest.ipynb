{
 "cells": [
  {
   "cell_type": "markdown",
   "metadata": {},
   "source": [
    "### Random Forest\n",
    "\n",
    "Important Parameters\n",
    "\n",
    "- **max_depth** : Depth of the Trees ( How Deep each Individual Tree can go )\n",
    "\n",
    "- **n_estimators** : Number of Estimators ( N Independent Decision Trees )"
   ]
  },
  {
   "cell_type": "code",
   "execution_count": 1,
   "metadata": {},
   "outputs": [],
   "source": [
    "import joblib\n",
    "import pandas as pd\n",
    "from sklearn.ensemble import RandomForestClassifier\n",
    "from sklearn.model_selection import GridSearchCV\n",
    "\n",
    "import warnings\n",
    "warnings.filterwarnings('ignore',category=FutureWarning)\n",
    "warnings.filterwarnings('ignore',category=DeprecationWarning)\n",
    "\n",
    "X_train = pd.read_csv('../Data/X_train.csv')\n",
    "y_train = pd.read_csv('../Data/Y_train.csv')"
   ]
  },
  {
   "cell_type": "code",
   "execution_count": 2,
   "metadata": {},
   "outputs": [],
   "source": [
    "def performance(results):\n",
    "    print(f'Best Parameters : {results.best_params_}\\n')\n",
    "    mean = results.cv_results_['mean_test_score']\n",
    "    std = results.cv_results_['std_test_score']\n",
    "    params = results.cv_results_['params']\n",
    "    for mean, std, params in zip(mean, std, params):\n",
    "        print(f'{round(mean,2)} | (+/-{round(std*2,2)}) for {params}')"
   ]
  },
  {
   "cell_type": "code",
   "execution_count": 3,
   "metadata": {},
   "outputs": [
    {
     "name": "stdout",
     "output_type": "stream",
     "text": [
      "Best Parameters : {'max_depth': 4, 'n_estimators': 50}\n",
      "\n",
      "0.79 | (+/-0.09) for {'max_depth': 2, 'n_estimators': 5}\n",
      "0.8 | (+/-0.11) for {'max_depth': 2, 'n_estimators': 50}\n",
      "0.81 | (+/-0.11) for {'max_depth': 2, 'n_estimators': 100}\n",
      "0.83 | (+/-0.06) for {'max_depth': 4, 'n_estimators': 5}\n",
      "0.83 | (+/-0.11) for {'max_depth': 4, 'n_estimators': 50}\n",
      "0.82 | (+/-0.12) for {'max_depth': 4, 'n_estimators': 100}\n",
      "0.8 | (+/-0.08) for {'max_depth': 8, 'n_estimators': 5}\n",
      "0.82 | (+/-0.07) for {'max_depth': 8, 'n_estimators': 50}\n",
      "0.83 | (+/-0.07) for {'max_depth': 8, 'n_estimators': 100}\n",
      "0.79 | (+/-0.04) for {'max_depth': 16, 'n_estimators': 5}\n",
      "0.82 | (+/-0.03) for {'max_depth': 16, 'n_estimators': 50}\n",
      "0.81 | (+/-0.02) for {'max_depth': 16, 'n_estimators': 100}\n",
      "0.78 | (+/-0.05) for {'max_depth': 32, 'n_estimators': 5}\n",
      "0.82 | (+/-0.02) for {'max_depth': 32, 'n_estimators': 50}\n",
      "0.81 | (+/-0.03) for {'max_depth': 32, 'n_estimators': 100}\n",
      "0.78 | (+/-0.05) for {'max_depth': None, 'n_estimators': 5}\n",
      "0.8 | (+/-0.02) for {'max_depth': None, 'n_estimators': 50}\n",
      "0.8 | (+/-0.03) for {'max_depth': None, 'n_estimators': 100}\n",
      "None\n"
     ]
    }
   ],
   "source": [
    "rfc = RandomForestClassifier()\n",
    "parameters = {\n",
    "    'n_estimators':[5,50,100],\n",
    "    'max_depth':[2,4,8,16,32,None]\n",
    "}\n",
    "\n",
    "gscv = GridSearchCV(rfc, parameters, cv=5)\n",
    "gscv.fit(X_train, y_train.values.ravel())\n",
    "\n",
    "print(performance(gscv))"
   ]
  },
  {
   "cell_type": "code",
   "execution_count": 4,
   "metadata": {},
   "outputs": [
    {
     "data": {
      "text/plain": [
       "RandomForestClassifier(max_depth=4, n_estimators=50)"
      ]
     },
     "execution_count": 4,
     "metadata": {},
     "output_type": "execute_result"
    }
   ],
   "source": [
    "gscv.best_estimator_"
   ]
  },
  {
   "cell_type": "markdown",
   "metadata": {},
   "source": [
    "Write Model **Pickle** "
   ]
  },
  {
   "cell_type": "code",
   "execution_count": 5,
   "metadata": {},
   "outputs": [
    {
     "data": {
      "text/plain": [
       "['../Data/RFC_Model.pkl']"
      ]
     },
     "execution_count": 5,
     "metadata": {},
     "output_type": "execute_result"
    }
   ],
   "source": [
    "joblib.dump(gscv.best_estimator_,'../Data/RFC_Model.pkl')"
   ]
  }
 ],
 "metadata": {
  "kernelspec": {
   "display_name": "Python 3",
   "language": "python",
   "name": "python3"
  },
  "language_info": {
   "codemirror_mode": {
    "name": "ipython",
    "version": 3
   },
   "file_extension": ".py",
   "mimetype": "text/x-python",
   "name": "python",
   "nbconvert_exporter": "python",
   "pygments_lexer": "ipython3",
   "version": "3.8.5"
  }
 },
 "nbformat": 4,
 "nbformat_minor": 4
}
