{
 "cells": [
  {
   "cell_type": "markdown",
   "metadata": {},
   "source": [
    "### Boosting\n",
    "\n",
    "Important Parameters\n",
    "\n",
    "- **max_depth** : Depth of the Trees ( How Deep each Individual Tree can go )\n",
    "\n",
    "- **n_estimators** : Number of Estimators ( N Independent Decision Trees )\n",
    "\n",
    "- **learning_rate** : How Quickly and whether or not the Algorithm will find the Optimal Solution ( Minima )"
   ]
  },
  {
   "cell_type": "code",
   "execution_count": 1,
   "metadata": {},
   "outputs": [],
   "source": [
    "import joblib\n",
    "import pandas as pd\n",
    "from sklearn.ensemble import GradientBoostingClassifier\n",
    "from sklearn.model_selection import GridSearchCV\n",
    "\n",
    "import warnings\n",
    "warnings.filterwarnings('ignore',category=FutureWarning)\n",
    "warnings.filterwarnings('ignore',category=DeprecationWarning)\n",
    "\n",
    "X_train = pd.read_csv('../Data/X_train.csv')\n",
    "y_train = pd.read_csv('../Data/Y_train.csv')"
   ]
  },
  {
   "cell_type": "code",
   "execution_count": 2,
   "metadata": {},
   "outputs": [],
   "source": [
    "def performance(results):\n",
    "    print(f'Best Parameters : {results.best_params_}\\n')\n",
    "    mean = results.cv_results_['mean_test_score']\n",
    "    std = results.cv_results_['std_test_score']\n",
    "    params = results.cv_results_['params']\n",
    "    for mean, std, params in zip(mean, std, params):\n",
    "        print(f'{round(mean,2)} | (+/-{round(std*2,2)}) for {params}')"
   ]
  },
  {
   "cell_type": "code",
   "execution_count": 3,
   "metadata": {},
   "outputs": [
    {
     "name": "stdout",
     "output_type": "stream",
     "text": [
      "Best Parameters : {'learning_rate': 0.01, 'max_depth': 3, 'n_estimators': 500}\n",
      "\n",
      "0.62 | (+/-0.01) for {'learning_rate': 0.01, 'max_depth': 1, 'n_estimators': 5}\n",
      "0.8 | (+/-0.12) for {'learning_rate': 0.01, 'max_depth': 1, 'n_estimators': 50}\n",
      "0.8 | (+/-0.12) for {'learning_rate': 0.01, 'max_depth': 1, 'n_estimators': 250}\n",
      "0.81 | (+/-0.12) for {'learning_rate': 0.01, 'max_depth': 1, 'n_estimators': 500}\n",
      "0.62 | (+/-0.01) for {'learning_rate': 0.01, 'max_depth': 3, 'n_estimators': 5}\n",
      "0.81 | (+/-0.07) for {'learning_rate': 0.01, 'max_depth': 3, 'n_estimators': 50}\n",
      "0.83 | (+/-0.07) for {'learning_rate': 0.01, 'max_depth': 3, 'n_estimators': 250}\n",
      "0.84 | (+/-0.08) for {'learning_rate': 0.01, 'max_depth': 3, 'n_estimators': 500}\n",
      "0.62 | (+/-0.01) for {'learning_rate': 0.01, 'max_depth': 5, 'n_estimators': 5}\n",
      "0.82 | (+/-0.05) for {'learning_rate': 0.01, 'max_depth': 5, 'n_estimators': 50}\n",
      "0.82 | (+/-0.04) for {'learning_rate': 0.01, 'max_depth': 5, 'n_estimators': 250}\n",
      "0.83 | (+/-0.05) for {'learning_rate': 0.01, 'max_depth': 5, 'n_estimators': 500}\n",
      "0.62 | (+/-0.01) for {'learning_rate': 0.01, 'max_depth': 7, 'n_estimators': 5}\n",
      "0.81 | (+/-0.05) for {'learning_rate': 0.01, 'max_depth': 7, 'n_estimators': 50}\n",
      "0.82 | (+/-0.04) for {'learning_rate': 0.01, 'max_depth': 7, 'n_estimators': 250}\n",
      "0.8 | (+/-0.03) for {'learning_rate': 0.01, 'max_depth': 7, 'n_estimators': 500}\n",
      "0.62 | (+/-0.01) for {'learning_rate': 0.01, 'max_depth': 9, 'n_estimators': 5}\n",
      "0.8 | (+/-0.06) for {'learning_rate': 0.01, 'max_depth': 9, 'n_estimators': 50}\n",
      "0.8 | (+/-0.04) for {'learning_rate': 0.01, 'max_depth': 9, 'n_estimators': 250}\n",
      "0.79 | (+/-0.05) for {'learning_rate': 0.01, 'max_depth': 9, 'n_estimators': 500}\n",
      "0.8 | (+/-0.12) for {'learning_rate': 0.1, 'max_depth': 1, 'n_estimators': 5}\n",
      "0.81 | (+/-0.12) for {'learning_rate': 0.1, 'max_depth': 1, 'n_estimators': 50}\n",
      "0.82 | (+/-0.11) for {'learning_rate': 0.1, 'max_depth': 1, 'n_estimators': 250}\n",
      "0.83 | (+/-0.09) for {'learning_rate': 0.1, 'max_depth': 1, 'n_estimators': 500}\n",
      "0.81 | (+/-0.07) for {'learning_rate': 0.1, 'max_depth': 3, 'n_estimators': 5}\n",
      "0.84 | (+/-0.07) for {'learning_rate': 0.1, 'max_depth': 3, 'n_estimators': 50}\n",
      "0.82 | (+/-0.03) for {'learning_rate': 0.1, 'max_depth': 3, 'n_estimators': 250}\n",
      "0.81 | (+/-0.04) for {'learning_rate': 0.1, 'max_depth': 3, 'n_estimators': 500}\n",
      "0.81 | (+/-0.05) for {'learning_rate': 0.1, 'max_depth': 5, 'n_estimators': 5}\n",
      "0.82 | (+/-0.03) for {'learning_rate': 0.1, 'max_depth': 5, 'n_estimators': 50}\n",
      "0.81 | (+/-0.04) for {'learning_rate': 0.1, 'max_depth': 5, 'n_estimators': 250}\n",
      "0.79 | (+/-0.04) for {'learning_rate': 0.1, 'max_depth': 5, 'n_estimators': 500}\n",
      "0.82 | (+/-0.05) for {'learning_rate': 0.1, 'max_depth': 7, 'n_estimators': 5}\n",
      "0.8 | (+/-0.02) for {'learning_rate': 0.1, 'max_depth': 7, 'n_estimators': 50}\n",
      "0.79 | (+/-0.03) for {'learning_rate': 0.1, 'max_depth': 7, 'n_estimators': 250}\n",
      "0.8 | (+/-0.04) for {'learning_rate': 0.1, 'max_depth': 7, 'n_estimators': 500}\n",
      "0.8 | (+/-0.05) for {'learning_rate': 0.1, 'max_depth': 9, 'n_estimators': 5}\n",
      "0.79 | (+/-0.04) for {'learning_rate': 0.1, 'max_depth': 9, 'n_estimators': 50}\n",
      "0.79 | (+/-0.05) for {'learning_rate': 0.1, 'max_depth': 9, 'n_estimators': 250}\n",
      "0.79 | (+/-0.04) for {'learning_rate': 0.1, 'max_depth': 9, 'n_estimators': 500}\n",
      "0.82 | (+/-0.1) for {'learning_rate': 1, 'max_depth': 1, 'n_estimators': 5}\n",
      "0.83 | (+/-0.08) for {'learning_rate': 1, 'max_depth': 1, 'n_estimators': 50}\n",
      "0.83 | (+/-0.08) for {'learning_rate': 1, 'max_depth': 1, 'n_estimators': 250}\n",
      "0.82 | (+/-0.08) for {'learning_rate': 1, 'max_depth': 1, 'n_estimators': 500}\n",
      "0.82 | (+/-0.06) for {'learning_rate': 1, 'max_depth': 3, 'n_estimators': 5}\n",
      "0.8 | (+/-0.02) for {'learning_rate': 1, 'max_depth': 3, 'n_estimators': 50}\n",
      "0.79 | (+/-0.03) for {'learning_rate': 1, 'max_depth': 3, 'n_estimators': 250}\n",
      "0.79 | (+/-0.03) for {'learning_rate': 1, 'max_depth': 3, 'n_estimators': 500}\n",
      "0.79 | (+/-0.04) for {'learning_rate': 1, 'max_depth': 5, 'n_estimators': 5}\n",
      "0.78 | (+/-0.05) for {'learning_rate': 1, 'max_depth': 5, 'n_estimators': 50}\n",
      "0.79 | (+/-0.02) for {'learning_rate': 1, 'max_depth': 5, 'n_estimators': 250}\n",
      "0.8 | (+/-0.02) for {'learning_rate': 1, 'max_depth': 5, 'n_estimators': 500}\n",
      "0.8 | (+/-0.02) for {'learning_rate': 1, 'max_depth': 7, 'n_estimators': 5}\n",
      "0.8 | (+/-0.01) for {'learning_rate': 1, 'max_depth': 7, 'n_estimators': 50}\n",
      "0.81 | (+/-0.05) for {'learning_rate': 1, 'max_depth': 7, 'n_estimators': 250}\n",
      "0.78 | (+/-0.04) for {'learning_rate': 1, 'max_depth': 7, 'n_estimators': 500}\n",
      "0.78 | (+/-0.03) for {'learning_rate': 1, 'max_depth': 9, 'n_estimators': 5}\n",
      "0.79 | (+/-0.04) for {'learning_rate': 1, 'max_depth': 9, 'n_estimators': 50}\n",
      "0.81 | (+/-0.03) for {'learning_rate': 1, 'max_depth': 9, 'n_estimators': 250}\n",
      "0.78 | (+/-0.05) for {'learning_rate': 1, 'max_depth': 9, 'n_estimators': 500}\n",
      "0.2 | (+/-0.12) for {'learning_rate': 10, 'max_depth': 1, 'n_estimators': 5}\n",
      "0.2 | (+/-0.12) for {'learning_rate': 10, 'max_depth': 1, 'n_estimators': 50}\n",
      "0.2 | (+/-0.12) for {'learning_rate': 10, 'max_depth': 1, 'n_estimators': 250}\n",
      "0.2 | (+/-0.12) for {'learning_rate': 10, 'max_depth': 1, 'n_estimators': 500}\n",
      "0.31 | (+/-0.19) for {'learning_rate': 10, 'max_depth': 3, 'n_estimators': 5}\n",
      "0.31 | (+/-0.19) for {'learning_rate': 10, 'max_depth': 3, 'n_estimators': 50}\n",
      "0.31 | (+/-0.19) for {'learning_rate': 10, 'max_depth': 3, 'n_estimators': 250}\n",
      "0.31 | (+/-0.19) for {'learning_rate': 10, 'max_depth': 3, 'n_estimators': 500}\n",
      "0.42 | (+/-0.18) for {'learning_rate': 10, 'max_depth': 5, 'n_estimators': 5}\n",
      "0.39 | (+/-0.17) for {'learning_rate': 10, 'max_depth': 5, 'n_estimators': 50}\n",
      "0.44 | (+/-0.26) for {'learning_rate': 10, 'max_depth': 5, 'n_estimators': 250}\n",
      "0.42 | (+/-0.26) for {'learning_rate': 10, 'max_depth': 5, 'n_estimators': 500}\n",
      "0.61 | (+/-0.16) for {'learning_rate': 10, 'max_depth': 7, 'n_estimators': 5}\n",
      "0.62 | (+/-0.24) for {'learning_rate': 10, 'max_depth': 7, 'n_estimators': 50}\n",
      "0.6 | (+/-0.11) for {'learning_rate': 10, 'max_depth': 7, 'n_estimators': 250}\n",
      "0.61 | (+/-0.21) for {'learning_rate': 10, 'max_depth': 7, 'n_estimators': 500}\n",
      "0.7 | (+/-0.13) for {'learning_rate': 10, 'max_depth': 9, 'n_estimators': 5}\n",
      "0.65 | (+/-0.08) for {'learning_rate': 10, 'max_depth': 9, 'n_estimators': 50}\n",
      "0.71 | (+/-0.14) for {'learning_rate': 10, 'max_depth': 9, 'n_estimators': 250}\n",
      "0.69 | (+/-0.11) for {'learning_rate': 10, 'max_depth': 9, 'n_estimators': 500}\n",
      "0.38 | (+/-0.01) for {'learning_rate': 100, 'max_depth': 1, 'n_estimators': 5}\n",
      "0.38 | (+/-0.01) for {'learning_rate': 100, 'max_depth': 1, 'n_estimators': 50}\n",
      "0.38 | (+/-0.01) for {'learning_rate': 100, 'max_depth': 1, 'n_estimators': 250}\n",
      "0.38 | (+/-0.01) for {'learning_rate': 100, 'max_depth': 1, 'n_estimators': 500}\n",
      "0.29 | (+/-0.1) for {'learning_rate': 100, 'max_depth': 3, 'n_estimators': 5}\n",
      "0.29 | (+/-0.1) for {'learning_rate': 100, 'max_depth': 3, 'n_estimators': 50}\n",
      "0.29 | (+/-0.1) for {'learning_rate': 100, 'max_depth': 3, 'n_estimators': 250}\n",
      "0.29 | (+/-0.1) for {'learning_rate': 100, 'max_depth': 3, 'n_estimators': 500}\n",
      "0.36 | (+/-0.19) for {'learning_rate': 100, 'max_depth': 5, 'n_estimators': 5}\n",
      "0.36 | (+/-0.2) for {'learning_rate': 100, 'max_depth': 5, 'n_estimators': 50}\n",
      "0.36 | (+/-0.19) for {'learning_rate': 100, 'max_depth': 5, 'n_estimators': 250}\n",
      "0.36 | (+/-0.2) for {'learning_rate': 100, 'max_depth': 5, 'n_estimators': 500}\n",
      "0.57 | (+/-0.1) for {'learning_rate': 100, 'max_depth': 7, 'n_estimators': 5}\n",
      "0.58 | (+/-0.08) for {'learning_rate': 100, 'max_depth': 7, 'n_estimators': 50}\n",
      "0.62 | (+/-0.08) for {'learning_rate': 100, 'max_depth': 7, 'n_estimators': 250}\n",
      "0.57 | (+/-0.09) for {'learning_rate': 100, 'max_depth': 7, 'n_estimators': 500}\n",
      "0.68 | (+/-0.08) for {'learning_rate': 100, 'max_depth': 9, 'n_estimators': 5}\n",
      "0.65 | (+/-0.11) for {'learning_rate': 100, 'max_depth': 9, 'n_estimators': 50}\n",
      "0.65 | (+/-0.11) for {'learning_rate': 100, 'max_depth': 9, 'n_estimators': 250}\n",
      "0.66 | (+/-0.1) for {'learning_rate': 100, 'max_depth': 9, 'n_estimators': 500}\n",
      "None\n"
     ]
    }
   ],
   "source": [
    "gbc = GradientBoostingClassifier()\n",
    "parameters = {\n",
    "    'n_estimators':[5,50,250,500],\n",
    "    'max_depth':[1,3,5,7,9],\n",
    "    'learning_rate':[0.01,0.1,1,10,100]\n",
    "}\n",
    "\n",
    "gscv = GridSearchCV(gbc, parameters, cv=5)\n",
    "gscv.fit(X_train, y_train.values.ravel())\n",
    "\n",
    "print(performance(gscv))"
   ]
  },
  {
   "cell_type": "code",
   "execution_count": 4,
   "metadata": {},
   "outputs": [
    {
     "data": {
      "text/plain": [
       "GradientBoostingClassifier(learning_rate=0.01, n_estimators=500)"
      ]
     },
     "execution_count": 4,
     "metadata": {},
     "output_type": "execute_result"
    }
   ],
   "source": [
    "gscv.best_estimator_"
   ]
  },
  {
   "cell_type": "markdown",
   "metadata": {},
   "source": [
    "Write Model **Pickle** "
   ]
  },
  {
   "cell_type": "code",
   "execution_count": 5,
   "metadata": {},
   "outputs": [
    {
     "data": {
      "text/plain": [
       "['../Data/GBC_Model.pkl']"
      ]
     },
     "execution_count": 5,
     "metadata": {},
     "output_type": "execute_result"
    }
   ],
   "source": [
    "joblib.dump(gscv.best_estimator_,'../Data/GBC_Model.pkl')"
   ]
  }
 ],
 "metadata": {
  "kernelspec": {
   "display_name": "Python 3",
   "language": "python",
   "name": "python3"
  },
  "language_info": {
   "codemirror_mode": {
    "name": "ipython",
    "version": 3
   },
   "file_extension": ".py",
   "mimetype": "text/x-python",
   "name": "python",
   "nbconvert_exporter": "python",
   "pygments_lexer": "ipython3",
   "version": "3.8.5"
  }
 },
 "nbformat": 4,
 "nbformat_minor": 4
}
