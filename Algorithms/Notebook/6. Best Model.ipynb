{
 "cells": [
  {
   "cell_type": "markdown",
   "metadata": {},
   "source": [
    "### Best Model Selection and Evaluation\n",
    "\n",
    "1. Evaluate all Models on Validation Set\n",
    "2. Select Best Performing Model on Validation Set \n",
    "3. Evaluate the Model on Test Set"
   ]
  },
  {
   "cell_type": "code",
   "execution_count": 1,
   "metadata": {},
   "outputs": [],
   "source": [
    "import joblib\n",
    "import pandas as pd\n",
    "from sklearn.ensemble import GradientBoostingClassifier\n",
    "from sklearn.model_selection import GridSearchCV\n",
    "from sklearn.metrics import accuracy_score, precision_score, recall_score\n",
    "\n",
    "import warnings\n",
    "warnings.filterwarnings('ignore',category=FutureWarning)\n",
    "warnings.filterwarnings('ignore',category=DeprecationWarning)\n",
    "\n",
    "X_test = pd.read_csv('../Data/X_test.csv')\n",
    "y_test = pd.read_csv('../Data/Y_test.csv')\n",
    "\n",
    "X_val = pd.read_csv('../Data/X_valid.csv')\n",
    "y_val = pd.read_csv('../Data/Y_valid.csv')"
   ]
  },
  {
   "cell_type": "markdown",
   "metadata": {},
   "source": [
    "Read All **Models**"
   ]
  },
  {
   "cell_type": "code",
   "execution_count": 2,
   "metadata": {},
   "outputs": [
    {
     "data": {
      "text/plain": [
       "{'LR': LogisticRegression(C=1),\n",
       " 'SVC': SVC(C=0.1, kernel='linear'),\n",
       " 'MLP': MLPClassifier(learning_rate='adaptive'),\n",
       " 'RFC': RandomForestClassifier(max_depth=4, n_estimators=50),\n",
       " 'GBC': GradientBoostingClassifier(learning_rate=0.01, n_estimators=500)}"
      ]
     },
     "execution_count": 2,
     "metadata": {},
     "output_type": "execute_result"
    }
   ],
   "source": [
    "models = {}\n",
    "\n",
    "for model in ['LR','SVC','MLP','RFC','GBC']:\n",
    "    models[model] = joblib.load(f'../Data/{model}_Model.pkl')\n",
    "    \n",
    "models    "
   ]
  },
  {
   "cell_type": "markdown",
   "metadata": {},
   "source": [
    "Model **Evaluation**"
   ]
  },
  {
   "cell_type": "code",
   "execution_count": 3,
   "metadata": {},
   "outputs": [],
   "source": [
    "def evaluate_model(name, model, feature, label):\n",
    "    y_pred = model.predict(feature)\n",
    "    accuracy = round(accuracy_score(label, y_pred),2)\n",
    "    precision = round(precision_score(label, y_pred),2)\n",
    "    recall = round(recall_score(label, y_pred),2)\n",
    "    print(f'{name} : Accuracy : {accuracy*100:.2f}% | Precision : {precision*100:.2f}% | Recall : {recall*100:.2f}%')\n"
   ]
  },
  {
   "cell_type": "code",
   "execution_count": 4,
   "metadata": {},
   "outputs": [
    {
     "name": "stdout",
     "output_type": "stream",
     "text": [
      "LR : Accuracy : 78.00% | Precision : 71.00% | Recall : 65.00%\n",
      "SVC : Accuracy : 75.00% | Precision : 67.00% | Recall : 60.00%\n",
      "MLP : Accuracy : 78.00% | Precision : 73.00% | Recall : 63.00%\n",
      "RFC : Accuracy : 81.00% | Precision : 85.00% | Recall : 60.00%\n",
      "GBC : Accuracy : 81.00% | Precision : 81.00% | Recall : 65.00%\n"
     ]
    }
   ],
   "source": [
    "for name, model in models.items():\n",
    "    evaluate_model(name,model,X_val, y_val)"
   ]
  },
  {
   "cell_type": "markdown",
   "metadata": {},
   "source": [
    "**Evaluate** Best Model on Test Set"
   ]
  },
  {
   "cell_type": "code",
   "execution_count": 5,
   "metadata": {},
   "outputs": [
    {
     "name": "stdout",
     "output_type": "stream",
     "text": [
      "Random Forest : Accuracy : 78.00% | Precision : 86.00% | Recall : 58.00%\n"
     ]
    }
   ],
   "source": [
    "evaluate_model('Random Forest',models['RFC'], X_test, y_test)"
   ]
  }
 ],
 "metadata": {
  "kernelspec": {
   "display_name": "Python 3",
   "language": "python",
   "name": "python3"
  },
  "language_info": {
   "codemirror_mode": {
    "name": "ipython",
    "version": 3
   },
   "file_extension": ".py",
   "mimetype": "text/x-python",
   "name": "python",
   "nbconvert_exporter": "python",
   "pygments_lexer": "ipython3",
   "version": "3.8.5"
  }
 },
 "nbformat": 4,
 "nbformat_minor": 4
}
